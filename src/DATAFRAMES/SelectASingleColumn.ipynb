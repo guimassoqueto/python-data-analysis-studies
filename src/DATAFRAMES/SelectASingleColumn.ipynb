{
 "cells": [
  {
   "cell_type": "code",
   "execution_count": 1,
   "id": "80a3eff9",
   "metadata": {},
   "outputs": [],
   "source": [
    "import pandas as pd"
   ]
  },
  {
   "cell_type": "code",
   "execution_count": 2,
   "id": "4942c445",
   "metadata": {},
   "outputs": [],
   "source": [
    "nba = pd.read_csv('../nba.csv')"
   ]
  },
  {
   "cell_type": "code",
   "execution_count": 3,
   "id": "265d4a60",
   "metadata": {},
   "outputs": [
    {
     "data": {
      "text/plain": [
       "0      Avery Bradley\n",
       "1        Jae Crowder\n",
       "2       John Holland\n",
       "3        R.J. Hunter\n",
       "4      Jonas Jerebko\n",
       "           ...      \n",
       "453     Shelvin Mack\n",
       "454        Raul Neto\n",
       "455     Tibor Pleiss\n",
       "456      Jeff Withey\n",
       "457              NaN\n",
       "Name: Name, Length: 458, dtype: object"
      ]
     },
     "execution_count": 3,
     "metadata": {},
     "output_type": "execute_result"
    }
   ],
   "source": [
    "nba.Name"
   ]
  },
  {
   "cell_type": "code",
   "execution_count": 7,
   "id": "2bba1fed",
   "metadata": {},
   "outputs": [
    {
     "data": {
      "text/plain": [
       "0      Avery Bradley\n",
       "1        Jae Crowder\n",
       "2       John Holland\n",
       "3        R.J. Hunter\n",
       "4      Jonas Jerebko\n",
       "           ...      \n",
       "453     Shelvin Mack\n",
       "454        Raul Neto\n",
       "455     Tibor Pleiss\n",
       "456      Jeff Withey\n",
       "457              NaN\n",
       "Name: Name, Length: 458, dtype: object"
      ]
     },
     "execution_count": 7,
     "metadata": {},
     "output_type": "execute_result"
    }
   ],
   "source": [
    "nba[\"Name\"]"
   ]
  },
  {
   "cell_type": "code",
   "execution_count": 8,
   "id": "cc16c2de",
   "metadata": {},
   "outputs": [
    {
     "data": {
      "text/plain": [
       "0      Avery Bradley\n",
       "1        Jae Crowder\n",
       "2       John Holland\n",
       "3        R.J. Hunter\n",
       "4      Jonas Jerebko\n",
       "           ...      \n",
       "453     Shelvin Mack\n",
       "454        Raul Neto\n",
       "455     Tibor Pleiss\n",
       "456      Jeff Withey\n",
       "457              NaN\n",
       "Name: Name, Length: 458, dtype: object"
      ]
     },
     "execution_count": 8,
     "metadata": {},
     "output_type": "execute_result"
    }
   ],
   "source": [
    "nba.get('Name', None)"
   ]
  },
  {
   "cell_type": "code",
   "execution_count": null,
   "id": "19fd0614",
   "metadata": {},
   "outputs": [],
   "source": [
    "\"\""
   ]
  }
 ],
 "metadata": {
  "kernelspec": {
   "display_name": "Python 3 (ipykernel)",
   "language": "python",
   "name": "python3"
  },
  "language_info": {
   "codemirror_mode": {
    "name": "ipython",
    "version": 3
   },
   "file_extension": ".py",
   "mimetype": "text/x-python",
   "name": "python",
   "nbconvert_exporter": "python",
   "pygments_lexer": "ipython3",
   "version": "3.10.4"
  }
 },
 "nbformat": 4,
 "nbformat_minor": 5
}
