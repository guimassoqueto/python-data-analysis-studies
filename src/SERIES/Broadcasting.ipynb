{
 "cells": [
  {
   "cell_type": "code",
   "execution_count": 2,
   "id": "b5dd045f",
   "metadata": {},
   "outputs": [],
   "source": [
    "import pandas as pd"
   ]
  },
  {
   "cell_type": "markdown",
   "id": "80395fa4",
   "metadata": {},
   "source": [
    "### Broadcating\n",
    "\n",
    "Broadcasting is applying some logic to all values of the serie, rather than doing one by one"
   ]
  },
  {
   "cell_type": "code",
   "execution_count": 3,
   "id": "f8af91ac",
   "metadata": {},
   "outputs": [],
   "source": [
    "google = pd.read_csv('../google_stock_price.csv', usecols=['Stock Price']).squeeze()"
   ]
  },
  {
   "cell_type": "code",
   "execution_count": 4,
   "id": "7811b309",
   "metadata": {},
   "outputs": [],
   "source": [
    "google_copy = google.copy()"
   ]
  },
  {
   "cell_type": "code",
   "execution_count": 6,
   "id": "4d71d763",
   "metadata": {},
   "outputs": [
    {
     "data": {
      "text/plain": [
       "0    60.12\n",
       "1    64.10\n",
       "2    64.65\n",
       "3    62.38\n",
       "4    62.95\n",
       "Name: Stock Price, dtype: float64"
      ]
     },
     "execution_count": 6,
     "metadata": {},
     "output_type": "execute_result"
    }
   ],
   "source": [
    "google_copy.head(5) + 10"
   ]
  },
  {
   "cell_type": "code",
   "execution_count": 9,
   "id": "9fd1db15",
   "metadata": {},
   "outputs": [
    {
     "data": {
      "text/plain": [
       "0    60.12\n",
       "1    64.10\n",
       "2    64.65\n",
       "3    62.38\n",
       "4    62.95\n",
       "Name: Stock Price, dtype: float64"
      ]
     },
     "execution_count": 9,
     "metadata": {},
     "output_type": "execute_result"
    }
   ],
   "source": [
    "google_copy.head(5).add(10)"
   ]
  },
  {
   "cell_type": "code",
   "execution_count": null,
   "id": "dcb9c891",
   "metadata": {},
   "outputs": [],
   "source": []
  }
 ],
 "metadata": {
  "kernelspec": {
   "display_name": "Python 3 (ipykernel)",
   "language": "python",
   "name": "python3"
  },
  "language_info": {
   "codemirror_mode": {
    "name": "ipython",
    "version": 3
   },
   "file_extension": ".py",
   "mimetype": "text/x-python",
   "name": "python",
   "nbconvert_exporter": "python",
   "pygments_lexer": "ipython3",
   "version": "3.10.4"
  }
 },
 "nbformat": 4,
 "nbformat_minor": 5
}
