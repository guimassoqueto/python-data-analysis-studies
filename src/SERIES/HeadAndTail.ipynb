{
 "cells": [
  {
   "cell_type": "code",
   "execution_count": 2,
   "id": "86a3d739",
   "metadata": {},
   "outputs": [],
   "source": [
    "import pandas as pd"
   ]
  },
  {
   "cell_type": "code",
   "execution_count": 3,
   "id": "bf8a1842",
   "metadata": {},
   "outputs": [],
   "source": [
    "pokemon = pd.read_csv('../pokemon.csv', usecols=(['Type']))"
   ]
  },
  {
   "cell_type": "code",
   "execution_count": 8,
   "id": "2e0e1f07",
   "metadata": {},
   "outputs": [],
   "source": [
    "pokemon_head_five = pokemon.head(n=5)"
   ]
  },
  {
   "cell_type": "code",
   "execution_count": 9,
   "id": "a4364d0e",
   "metadata": {},
   "outputs": [],
   "source": [
    "pokemon_tail_eight = pokemon.tail(n=8)"
   ]
  },
  {
   "cell_type": "code",
   "execution_count": 10,
   "id": "95258d36",
   "metadata": {},
   "outputs": [],
   "source": [
    "google = pd.read_csv('../google_stock_price.csv').squeeze('columns')"
   ]
  },
  {
   "cell_type": "code",
   "execution_count": 14,
   "id": "35fb8ea4",
   "metadata": {},
   "outputs": [
    {
     "data": {
      "text/plain": [
       "50.12"
      ]
     },
     "execution_count": 14,
     "metadata": {},
     "output_type": "execute_result"
    }
   ],
   "source": [
    "google.head(1).mean()"
   ]
  },
  {
   "cell_type": "code",
   "execution_count": null,
   "id": "2fa12198",
   "metadata": {},
   "outputs": [],
   "source": []
  }
 ],
 "metadata": {
  "kernelspec": {
   "display_name": "Python 3 (ipykernel)",
   "language": "python",
   "name": "python3"
  },
  "language_info": {
   "codemirror_mode": {
    "name": "ipython",
    "version": 3
   },
   "file_extension": ".py",
   "mimetype": "text/x-python",
   "name": "python",
   "nbconvert_exporter": "python",
   "pygments_lexer": "ipython3",
   "version": "3.10.4"
  }
 },
 "nbformat": 4,
 "nbformat_minor": 5
}
