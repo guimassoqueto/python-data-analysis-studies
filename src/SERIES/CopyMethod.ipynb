{
 "cells": [
  {
   "cell_type": "code",
   "execution_count": 7,
   "id": "9c542f6d",
   "metadata": {},
   "outputs": [],
   "source": [
    "import pandas as pd"
   ]
  },
  {
   "cell_type": "code",
   "execution_count": 10,
   "id": "b620a231",
   "metadata": {},
   "outputs": [],
   "source": [
    "pokemon_dataframe = pd.read_csv('../pokemon.csv', usecols=['Pokemon'])"
   ]
  },
  {
   "cell_type": "code",
   "execution_count": 11,
   "id": "751916fd",
   "metadata": {},
   "outputs": [],
   "source": [
    "pokemon_series = pokemon_dataframe.squeeze('columns')"
   ]
  },
  {
   "cell_type": "markdown",
   "id": "f12f063b",
   "metadata": {},
   "source": [
    "if you change some value of the pokemon_series..."
   ]
  },
  {
   "cell_type": "code",
   "execution_count": 12,
   "id": "2aa6458d",
   "metadata": {},
   "outputs": [],
   "source": [
    "pokemon_series[0] = 'Whatever'"
   ]
  },
  {
   "cell_type": "markdown",
   "id": "a5e36279",
   "metadata": {},
   "source": [
    "The change will also be refelected on pokemon_dataframe..."
   ]
  },
  {
   "cell_type": "code",
   "execution_count": 21,
   "id": "0dcd7b3d",
   "metadata": {},
   "outputs": [
    {
     "data": {
      "text/html": [
       "<div>\n",
       "<style scoped>\n",
       "    .dataframe tbody tr th:only-of-type {\n",
       "        vertical-align: middle;\n",
       "    }\n",
       "\n",
       "    .dataframe tbody tr th {\n",
       "        vertical-align: top;\n",
       "    }\n",
       "\n",
       "    .dataframe thead th {\n",
       "        text-align: right;\n",
       "    }\n",
       "</style>\n",
       "<table border=\"1\" class=\"dataframe\">\n",
       "  <thead>\n",
       "    <tr style=\"text-align: right;\">\n",
       "      <th></th>\n",
       "      <th>Pokemon</th>\n",
       "    </tr>\n",
       "  </thead>\n",
       "  <tbody>\n",
       "    <tr>\n",
       "      <th>0</th>\n",
       "      <td>Whatever</td>\n",
       "    </tr>\n",
       "    <tr>\n",
       "      <th>1</th>\n",
       "      <td>Ivysaur</td>\n",
       "    </tr>\n",
       "  </tbody>\n",
       "</table>\n",
       "</div>"
      ],
      "text/plain": [
       "    Pokemon\n",
       "0  Whatever\n",
       "1   Ivysaur"
      ]
     },
     "execution_count": 21,
     "metadata": {},
     "output_type": "execute_result"
    }
   ],
   "source": [
    "pokemon_dataframe.head(2)"
   ]
  },
  {
   "cell_type": "markdown",
   "id": "778652be",
   "metadata": {},
   "source": [
    "To make a copy, without affecting the original dataframe, just do"
   ]
  },
  {
   "cell_type": "code",
   "execution_count": 25,
   "id": "7942df83",
   "metadata": {},
   "outputs": [],
   "source": [
    "pokemon_series_copy = pokemon_dataframe.squeeze('columns').copy(deep=True)"
   ]
  },
  {
   "cell_type": "code",
   "execution_count": 26,
   "id": "71c11a82",
   "metadata": {},
   "outputs": [],
   "source": [
    "pokemon_series_copy[0] = 'Gaymen'"
   ]
  },
  {
   "cell_type": "code",
   "execution_count": 27,
   "id": "32a7fe0a",
   "metadata": {},
   "outputs": [
    {
     "data": {
      "text/plain": [
       "0          Gaymen\n",
       "1         Ivysaur\n",
       "2        Venusaur\n",
       "3      Charmander\n",
       "4      Charmeleon\n",
       "          ...    \n",
       "716       Yveltal\n",
       "717       Zygarde\n",
       "718       Diancie\n",
       "719         Hoopa\n",
       "720     Volcanion\n",
       "Name: Pokemon, Length: 721, dtype: object"
      ]
     },
     "execution_count": 27,
     "metadata": {},
     "output_type": "execute_result"
    }
   ],
   "source": [
    "pokemon_series_copy"
   ]
  },
  {
   "cell_type": "code",
   "execution_count": 28,
   "id": "237a74ad",
   "metadata": {},
   "outputs": [
    {
     "data": {
      "text/html": [
       "<div>\n",
       "<style scoped>\n",
       "    .dataframe tbody tr th:only-of-type {\n",
       "        vertical-align: middle;\n",
       "    }\n",
       "\n",
       "    .dataframe tbody tr th {\n",
       "        vertical-align: top;\n",
       "    }\n",
       "\n",
       "    .dataframe thead th {\n",
       "        text-align: right;\n",
       "    }\n",
       "</style>\n",
       "<table border=\"1\" class=\"dataframe\">\n",
       "  <thead>\n",
       "    <tr style=\"text-align: right;\">\n",
       "      <th></th>\n",
       "      <th>Pokemon</th>\n",
       "    </tr>\n",
       "  </thead>\n",
       "  <tbody>\n",
       "    <tr>\n",
       "      <th>0</th>\n",
       "      <td>Whatever</td>\n",
       "    </tr>\n",
       "    <tr>\n",
       "      <th>1</th>\n",
       "      <td>Ivysaur</td>\n",
       "    </tr>\n",
       "  </tbody>\n",
       "</table>\n",
       "</div>"
      ],
      "text/plain": [
       "    Pokemon\n",
       "0  Whatever\n",
       "1   Ivysaur"
      ]
     },
     "execution_count": 28,
     "metadata": {},
     "output_type": "execute_result"
    }
   ],
   "source": [
    "pokemon_dataframe.head(2)"
   ]
  },
  {
   "cell_type": "code",
   "execution_count": null,
   "id": "feb5a638",
   "metadata": {},
   "outputs": [],
   "source": []
  }
 ],
 "metadata": {
  "kernelspec": {
   "display_name": "Python 3 (ipykernel)",
   "language": "python",
   "name": "python3"
  },
  "language_info": {
   "codemirror_mode": {
    "name": "ipython",
    "version": 3
   },
   "file_extension": ".py",
   "mimetype": "text/x-python",
   "name": "python",
   "nbconvert_exporter": "python",
   "pygments_lexer": "ipython3",
   "version": "3.10.4"
  }
 },
 "nbformat": 4,
 "nbformat_minor": 5
}
