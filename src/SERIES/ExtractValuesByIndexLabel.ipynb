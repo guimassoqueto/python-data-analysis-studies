{
 "cells": [
  {
   "cell_type": "code",
   "execution_count": 2,
   "id": "c264def0",
   "metadata": {},
   "outputs": [],
   "source": [
    "import pandas as pd"
   ]
  },
  {
   "cell_type": "code",
   "execution_count": 6,
   "id": "ec38fd5b",
   "metadata": {},
   "outputs": [],
   "source": [
    "pokemon_by_name = pd.read_csv('../pokemon.csv', index_col='Pokemon').squeeze('columns') "
   ]
  },
  {
   "cell_type": "code",
   "execution_count": 7,
   "id": "840a167d",
   "metadata": {},
   "outputs": [
    {
     "data": {
      "text/plain": [
       "'Electric'"
      ]
     },
     "execution_count": 7,
     "metadata": {},
     "output_type": "execute_result"
    }
   ],
   "source": [
    "pokemon_by_name['Pikachu']"
   ]
  },
  {
   "cell_type": "code",
   "execution_count": 8,
   "id": "fdfaf57d",
   "metadata": {},
   "outputs": [],
   "source": [
    "pokemon_by_type = pd.read_csv('../pokemon.csv', index_col='Type').squeeze('columns') "
   ]
  },
  {
   "cell_type": "code",
   "execution_count": 13,
   "id": "6bb0d382",
   "metadata": {},
   "outputs": [
    {
     "data": {
      "text/plain": [
       "Type\n",
       "Electric        Pikachu\n",
       "Electric         Raichu\n",
       "Electric      Magnemite\n",
       "Electric       Magneton\n",
       "Electric        Voltorb\n",
       "               ...     \n",
       "Fire        Fletchinder\n",
       "Fire         Talonflame\n",
       "Fire             Litleo\n",
       "Fire             Pyroar\n",
       "Fire          Volcanion\n",
       "Name: Pokemon, Length: 83, dtype: object"
      ]
     },
     "execution_count": 13,
     "metadata": {},
     "output_type": "execute_result"
    }
   ],
   "source": [
    "pokemon_by_type[['Electric', 'Fire']]"
   ]
  },
  {
   "cell_type": "code",
   "execution_count": null,
   "id": "f0be28b7",
   "metadata": {},
   "outputs": [],
   "source": []
  }
 ],
 "metadata": {
  "kernelspec": {
   "display_name": "Python 3 (ipykernel)",
   "language": "python",
   "name": "python3"
  },
  "language_info": {
   "codemirror_mode": {
    "name": "ipython",
    "version": 3
   },
   "file_extension": ".py",
   "mimetype": "text/x-python",
   "name": "python",
   "nbconvert_exporter": "python",
   "pygments_lexer": "ipython3",
   "version": "3.10.4"
  }
 },
 "nbformat": 4,
 "nbformat_minor": 5
}
