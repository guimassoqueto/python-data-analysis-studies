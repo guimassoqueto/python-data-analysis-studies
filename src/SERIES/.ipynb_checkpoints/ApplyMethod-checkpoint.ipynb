{
 "cells": [
  {
   "cell_type": "code",
   "execution_count": 1,
   "id": "aea24136",
   "metadata": {},
   "outputs": [],
   "source": [
    "import pandas as pd"
   ]
  },
  {
   "cell_type": "code",
   "execution_count": 2,
   "id": "f4a9e77e",
   "metadata": {},
   "outputs": [],
   "source": [
    "pokemon = pd.read_csv('../pokemon.csv', usecols=['Pokemon']).squeeze('columns')"
   ]
  },
  {
   "cell_type": "markdown",
   "id": "eeee61ab",
   "metadata": {},
   "source": [
    "applying a method to all values"
   ]
  },
  {
   "cell_type": "code",
   "execution_count": 4,
   "id": "996003e7",
   "metadata": {},
   "outputs": [
    {
     "data": {
      "text/plain": [
       "0       BULBASAUR\n",
       "1         IVYSAUR\n",
       "2        VENUSAUR\n",
       "3      CHARMANDER\n",
       "4      CHARMELEON\n",
       "          ...    \n",
       "716       YVELTAL\n",
       "717       ZYGARDE\n",
       "718       DIANCIE\n",
       "719         HOOPA\n",
       "720     VOLCANION\n",
       "Name: Pokemon, Length: 721, dtype: object"
      ]
     },
     "execution_count": 4,
     "metadata": {},
     "output_type": "execute_result"
    }
   ],
   "source": [
    "pokemon.apply(lambda name: name.upper())"
   ]
  },
  {
   "cell_type": "code",
   "execution_count": null,
   "id": "f12ca902",
   "metadata": {},
   "outputs": [],
   "source": []
  }
 ],
 "metadata": {
  "kernelspec": {
   "display_name": "Python 3 (ipykernel)",
   "language": "python",
   "name": "python3"
  },
  "language_info": {
   "codemirror_mode": {
    "name": "ipython",
    "version": 3
   },
   "file_extension": ".py",
   "mimetype": "text/x-python",
   "name": "python",
   "nbconvert_exporter": "python",
   "pygments_lexer": "ipython3",
   "version": "3.10.4"
  }
 },
 "nbformat": 4,
 "nbformat_minor": 5
}
