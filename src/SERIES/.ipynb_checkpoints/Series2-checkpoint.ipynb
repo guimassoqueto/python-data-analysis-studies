{
 "cells": [
  {
   "cell_type": "code",
   "execution_count": 1,
   "id": "3f138383",
   "metadata": {},
   "outputs": [],
   "source": [
    "import pandas as pd"
   ]
  },
  {
   "cell_type": "code",
   "execution_count": 3,
   "id": "4634527c",
   "metadata": {},
   "outputs": [
    {
     "data": {
      "text/plain": [
       "Oswald    666-1234\n",
       "Mariah    555-3214\n",
       "Johnny    444-1234\n",
       "dtype: object"
      ]
     },
     "execution_count": 3,
     "metadata": {},
     "output_type": "execute_result"
    }
   ],
   "source": [
    "phone_numbers = {\n",
    "    'Oswald': '666-1234',\n",
    "    'Mariah': '555-3214',\n",
    "    'Johnny': '444-1234'\n",
    "}\n",
    "\n",
    "pd.Series(phone_numbers)"
   ]
  },
  {
   "cell_type": "code",
   "execution_count": null,
   "id": "dac60b75",
   "metadata": {},
   "outputs": [],
   "source": []
  }
 ],
 "metadata": {
  "kernelspec": {
   "display_name": "Python 3 (ipykernel)",
   "language": "python",
   "name": "python3"
  },
  "language_info": {
   "codemirror_mode": {
    "name": "ipython",
    "version": 3
   },
   "file_extension": ".py",
   "mimetype": "text/x-python",
   "name": "python",
   "nbconvert_exporter": "python",
   "pygments_lexer": "ipython3",
   "version": "3.10.4"
  }
 },
 "nbformat": 4,
 "nbformat_minor": 5
}
