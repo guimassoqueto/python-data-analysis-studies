{
 "cells": [
  {
   "cell_type": "code",
   "execution_count": 1,
   "id": "7e7ffa10",
   "metadata": {},
   "outputs": [],
   "source": [
    "import pandas as pd"
   ]
  },
  {
   "cell_type": "code",
   "execution_count": 2,
   "id": "090f382e",
   "metadata": {},
   "outputs": [],
   "source": [
    "pokemons = pd.read_csv('../pokemon.csv', index_col='Pokemon').squeeze('columns')"
   ]
  },
  {
   "cell_type": "code",
   "execution_count": 4,
   "id": "fe37c5ac",
   "metadata": {},
   "outputs": [
    {
     "data": {
      "text/plain": [
       "'Electric'"
      ]
     },
     "execution_count": 4,
     "metadata": {},
     "output_type": "execute_result"
    }
   ],
   "source": [
    "pokemons.get('Pikachu')"
   ]
  },
  {
   "cell_type": "code",
   "execution_count": 9,
   "id": "d370742f",
   "metadata": {},
   "outputs": [
    {
     "data": {
      "text/plain": [
       "'Grass'"
      ]
     },
     "execution_count": 9,
     "metadata": {},
     "output_type": "execute_result"
    }
   ],
   "source": [
    "pokemons.get(0)"
   ]
  },
  {
   "cell_type": "code",
   "execution_count": 10,
   "id": "bcf1b023",
   "metadata": {},
   "outputs": [
    {
     "data": {
      "text/plain": [
       "Pokemon\n",
       "Pikachu      Electric\n",
       "Charizard        Fire\n",
       "Blastoise       Water\n",
       "Name: Type, dtype: object"
      ]
     },
     "execution_count": 10,
     "metadata": {},
     "output_type": "execute_result"
    }
   ],
   "source": [
    "pokemons.get(['Pikachu', 'Charizard', 'Blastoise'])"
   ]
  },
  {
   "cell_type": "code",
   "execution_count": 11,
   "id": "0b598b23",
   "metadata": {},
   "outputs": [
    {
     "data": {
      "text/plain": [
       "Pokemon\n",
       "Sandslash      Ground\n",
       "Magneton     Electric\n",
       "Nuzleaf         Grass\n",
       "Name: Type, dtype: object"
      ]
     },
     "execution_count": 11,
     "metadata": {},
     "output_type": "execute_result"
    }
   ],
   "source": [
    "pokemons.get([27, 81, 273])"
   ]
  },
  {
   "cell_type": "code",
   "execution_count": 12,
   "id": "2140e6e2",
   "metadata": {},
   "outputs": [],
   "source": [
    "pokemons.get('Digimon')"
   ]
  },
  {
   "cell_type": "markdown",
   "id": "64d5250f",
   "metadata": {},
   "source": [
    "If the pokemon doesn't exist, you can set a returning value:"
   ]
  },
  {
   "cell_type": "code",
   "execution_count": 13,
   "id": "0e07ca6c",
   "metadata": {},
   "outputs": [
    {
     "data": {
      "text/plain": [
       "'Inexistent'"
      ]
     },
     "execution_count": 13,
     "metadata": {},
     "output_type": "execute_result"
    }
   ],
   "source": [
    "pokemons.get('Digimon', 'Inexistent')"
   ]
  },
  {
   "cell_type": "code",
   "execution_count": 14,
   "id": "2cdb7636",
   "metadata": {},
   "outputs": [
    {
     "data": {
      "text/plain": [
       "'Inexistent'"
      ]
     },
     "execution_count": 14,
     "metadata": {},
     "output_type": "execute_result"
    }
   ],
   "source": [
    "pokemons.get(['Pikachu', 'Charizard', 'Gaymen'], 'Inexistent')"
   ]
  },
  {
   "cell_type": "code",
   "execution_count": null,
   "id": "6d24a55a",
   "metadata": {},
   "outputs": [],
   "source": []
  }
 ],
 "metadata": {
  "kernelspec": {
   "display_name": "Python 3 (ipykernel)",
   "language": "python",
   "name": "python3"
  },
  "language_info": {
   "codemirror_mode": {
    "name": "ipython",
    "version": 3
   },
   "file_extension": ".py",
   "mimetype": "text/x-python",
   "name": "python",
   "nbconvert_exporter": "python",
   "pygments_lexer": "ipython3",
   "version": "3.10.4"
  }
 },
 "nbformat": 4,
 "nbformat_minor": 5
}
