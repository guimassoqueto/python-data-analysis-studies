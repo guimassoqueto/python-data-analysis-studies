{
 "cells": [
  {
   "cell_type": "code",
   "execution_count": 1,
   "id": "fb61381e",
   "metadata": {},
   "outputs": [],
   "source": [
    "import pandas as pd"
   ]
  },
  {
   "cell_type": "markdown",
   "id": "1fd02f96",
   "metadata": {},
   "source": [
    "### Value Counts\n",
    "Value counts counts the number of occurrences of a given serie's value"
   ]
  },
  {
   "cell_type": "code",
   "execution_count": 5,
   "id": "8805f163",
   "metadata": {},
   "outputs": [],
   "source": [
    "google = pd.read_csv('../google_stock_price.csv', usecols=['Stock Price']).squeeze('columns')"
   ]
  },
  {
   "cell_type": "code",
   "execution_count": 8,
   "id": "abe4e7aa",
   "metadata": {},
   "outputs": [
    {
     "data": {
      "text/plain": [
       "291.21    5\n",
       "307.94    3\n",
       "289.71    3\n",
       "243.26    3\n",
       "194.80    3\n",
       "         ..\n",
       "195.05    1\n",
       "193.26    1\n",
       "185.42    1\n",
       "172.83    1\n",
       "782.22    1\n",
       "Name: Stock Price, Length: 2886, dtype: int64"
      ]
     },
     "execution_count": 8,
     "metadata": {},
     "output_type": "execute_result"
    }
   ],
   "source": [
    "google.value_counts(sort=True, ascending=False)"
   ]
  },
  {
   "cell_type": "code",
   "execution_count": 12,
   "id": "d9976bfe",
   "metadata": {},
   "outputs": [],
   "source": [
    "pokemon = pd.read_csv('../pokemon.csv', index_col='Pokemon', usecols=['Pokemon', 'Type']).squeeze('columns')"
   ]
  },
  {
   "cell_type": "markdown",
   "id": "4dcb57b0",
   "metadata": {},
   "source": [
    "Getting values by percentual occurence:"
   ]
  },
  {
   "cell_type": "code",
   "execution_count": 14,
   "id": "09dde3fb",
   "metadata": {},
   "outputs": [
    {
     "data": {
      "text/plain": [
       "Water       14.563107\n",
       "Normal      12.898752\n",
       "Grass        9.153953\n",
       "Bug          8.737864\n",
       "Fire         6.518724\n",
       "Psychic      6.518724\n",
       "Rock         5.686546\n",
       "Electric     4.993065\n",
       "Ground       4.160888\n",
       "Poison       3.883495\n",
       "Dark         3.883495\n",
       "Fighting     3.467406\n",
       "Dragon       3.328710\n",
       "Ghost        3.190014\n",
       "Ice          3.190014\n",
       "Steel        3.051318\n",
       "Fairy        2.357836\n",
       "Flying       0.416089\n",
       "Name: Type, dtype: float64"
      ]
     },
     "execution_count": 14,
     "metadata": {},
     "output_type": "execute_result"
    }
   ],
   "source": [
    "pokemon.value_counts(normalize=True) * 100"
   ]
  },
  {
   "cell_type": "code",
   "execution_count": null,
   "id": "399f0351",
   "metadata": {},
   "outputs": [],
   "source": []
  }
 ],
 "metadata": {
  "kernelspec": {
   "display_name": "Python 3 (ipykernel)",
   "language": "python",
   "name": "python3"
  },
  "language_info": {
   "codemirror_mode": {
    "name": "ipython",
    "version": 3
   },
   "file_extension": ".py",
   "mimetype": "text/x-python",
   "name": "python",
   "nbconvert_exporter": "python",
   "pygments_lexer": "ipython3",
   "version": "3.10.4"
  }
 },
 "nbformat": 4,
 "nbformat_minor": 5
}
