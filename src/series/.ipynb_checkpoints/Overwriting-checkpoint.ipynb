{
 "cells": [
  {
   "cell_type": "code",
   "execution_count": 1,
   "id": "ab4dbc5e",
   "metadata": {},
   "outputs": [],
   "source": [
    "import pandas as pd"
   ]
  },
  {
   "cell_type": "code",
   "execution_count": 3,
   "id": "50dc8d65",
   "metadata": {},
   "outputs": [],
   "source": [
    "pokemons = pd.read_csv('../pokemon.csv', index_col='Pokemon').squeeze('columns')"
   ]
  },
  {
   "cell_type": "code",
   "execution_count": 4,
   "id": "a24239b1",
   "metadata": {},
   "outputs": [
    {
     "data": {
      "text/plain": [
       "Pokemon\n",
       "Bulbasaur       Grass\n",
       "Ivysaur         Grass\n",
       "Venusaur        Grass\n",
       "Charmander       Fire\n",
       "Charmeleon       Fire\n",
       "               ...   \n",
       "Yveltal          Dark\n",
       "Zygarde        Dragon\n",
       "Diancie          Rock\n",
       "Hoopa         Psychic\n",
       "Volcanion        Fire\n",
       "Name: Type, Length: 721, dtype: object"
      ]
     },
     "execution_count": 4,
     "metadata": {},
     "output_type": "execute_result"
    }
   ],
   "source": [
    "pokemons"
   ]
  },
  {
   "cell_type": "markdown",
   "id": "db013215",
   "metadata": {},
   "source": [
    "### Changing values"
   ]
  },
  {
   "cell_type": "code",
   "execution_count": 10,
   "id": "12402068",
   "metadata": {},
   "outputs": [],
   "source": [
    "pokemons[['Pikachu', 'Charizard']] = ['Fire', 'Water']"
   ]
  },
  {
   "cell_type": "code",
   "execution_count": 11,
   "id": "11cb5989",
   "metadata": {},
   "outputs": [
    {
     "data": {
      "text/plain": [
       "Pokemon\n",
       "Pikachu       Fire\n",
       "Charizard    Water\n",
       "Name: Type, dtype: object"
      ]
     },
     "execution_count": 11,
     "metadata": {},
     "output_type": "execute_result"
    }
   ],
   "source": [
    "pokemons[['Pikachu', 'Charizard']]"
   ]
  },
  {
   "cell_type": "code",
   "execution_count": null,
   "id": "b8db15ca",
   "metadata": {},
   "outputs": [],
   "source": []
  }
 ],
 "metadata": {
  "kernelspec": {
   "display_name": "Python 3 (ipykernel)",
   "language": "python",
   "name": "python3"
  },
  "language_info": {
   "codemirror_mode": {
    "name": "ipython",
    "version": 3
   },
   "file_extension": ".py",
   "mimetype": "text/x-python",
   "name": "python",
   "nbconvert_exporter": "python",
   "pygments_lexer": "ipython3",
   "version": "3.10.4"
  }
 },
 "nbformat": 4,
 "nbformat_minor": 5
}
