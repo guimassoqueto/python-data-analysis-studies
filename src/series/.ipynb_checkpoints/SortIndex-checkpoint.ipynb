{
 "cells": [
  {
   "cell_type": "code",
   "execution_count": 1,
   "id": "ceb06902",
   "metadata": {},
   "outputs": [],
   "source": [
    "import pandas as pd"
   ]
  },
  {
   "cell_type": "code",
   "execution_count": 2,
   "id": "a1e9fe47",
   "metadata": {},
   "outputs": [],
   "source": [
    "pokemon = pd.read_csv('../pokemon.csv', index_col='Pokemon').squeeze('columns')"
   ]
  },
  {
   "cell_type": "code",
   "execution_count": 4,
   "id": "2295ea5f",
   "metadata": {},
   "outputs": [
    {
     "data": {
      "text/plain": [
       "Pokemon\n",
       "Abomasnow      Grass\n",
       "Abra         Psychic\n",
       "Absol           Dark\n",
       "Accelgor         Bug\n",
       "Aegislash      Steel\n",
       "              ...   \n",
       "Zoroark         Dark\n",
       "Zorua           Dark\n",
       "Zubat         Poison\n",
       "Zweilous        Dark\n",
       "Zygarde       Dragon\n",
       "Name: Type, Length: 721, dtype: object"
      ]
     },
     "execution_count": 4,
     "metadata": {},
     "output_type": "execute_result"
    }
   ],
   "source": [
    "pokemon.sort_index()"
   ]
  },
  {
   "cell_type": "code",
   "execution_count": null,
   "id": "1f1e88d4",
   "metadata": {},
   "outputs": [],
   "source": []
  }
 ],
 "metadata": {
  "kernelspec": {
   "display_name": "Python 3 (ipykernel)",
   "language": "python",
   "name": "python3"
  },
  "language_info": {
   "codemirror_mode": {
    "name": "ipython",
    "version": 3
   },
   "file_extension": ".py",
   "mimetype": "text/x-python",
   "name": "python",
   "nbconvert_exporter": "python",
   "pygments_lexer": "ipython3",
   "version": "3.10.4"
  }
 },
 "nbformat": 4,
 "nbformat_minor": 5
}
