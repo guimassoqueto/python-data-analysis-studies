{
 "cells": [
  {
   "cell_type": "code",
   "execution_count": 1,
   "id": "4cbd4045",
   "metadata": {},
   "outputs": [],
   "source": [
    "import pandas as pd"
   ]
  },
  {
   "cell_type": "code",
   "execution_count": 7,
   "id": "bd2f3a4c",
   "metadata": {},
   "outputs": [],
   "source": [
    "fruits = ['Blueberry', 'Banana', 'Mango', 'Kiwi', 'Avocado', 'Pear', 'Orange']\n",
    "weekdays = ['Monday', 'Tuesday', 'Wednesday', 'Thursday', 'Friday', 'Saturday', 'Sunday']"
   ]
  },
  {
   "cell_type": "code",
   "execution_count": 8,
   "id": "64d739a3",
   "metadata": {},
   "outputs": [],
   "source": [
    "obj = pd.Series(fruits, weekdays)"
   ]
  },
  {
   "cell_type": "code",
   "execution_count": 9,
   "id": "039b4a39",
   "metadata": {},
   "outputs": [
    {
     "data": {
      "text/plain": [
       "Monday       Blueberry\n",
       "Tuesday         Banana\n",
       "Wednesday        Mango\n",
       "Thursday          Kiwi\n",
       "Friday         Avocado\n",
       "Saturday          Pear\n",
       "Sunday          Orange\n",
       "dtype: object"
      ]
     },
     "execution_count": 9,
     "metadata": {},
     "output_type": "execute_result"
    }
   ],
   "source": [
    "obj"
   ]
  },
  {
   "cell_type": "code",
   "execution_count": 10,
   "id": "19f7ca6a",
   "metadata": {},
   "outputs": [
    {
     "data": {
      "text/plain": [
       "<bound method Series.keys of Monday       Blueberry\n",
       "Tuesday         Banana\n",
       "Wednesday        Mango\n",
       "Thursday          Kiwi\n",
       "Friday         Avocado\n",
       "Saturday          Pear\n",
       "Sunday          Orange\n",
       "dtype: object>"
      ]
     },
     "execution_count": 10,
     "metadata": {},
     "output_type": "execute_result"
    }
   ],
   "source": [
    "obj.keys"
   ]
  },
  {
   "cell_type": "code",
   "execution_count": 11,
   "id": "62edb909",
   "metadata": {},
   "outputs": [
    {
     "data": {
      "text/plain": [
       "array(['Blueberry', 'Banana', 'Mango', 'Kiwi', 'Avocado', 'Pear',\n",
       "       'Orange'], dtype=object)"
      ]
     },
     "execution_count": 11,
     "metadata": {},
     "output_type": "execute_result"
    }
   ],
   "source": [
    "obj.values"
   ]
  },
  {
   "cell_type": "code",
   "execution_count": null,
   "id": "51ce5fe1",
   "metadata": {},
   "outputs": [],
   "source": []
  }
 ],
 "metadata": {
  "kernelspec": {
   "display_name": "Python 3 (ipykernel)",
   "language": "python",
   "name": "python3"
  },
  "language_info": {
   "codemirror_mode": {
    "name": "ipython",
    "version": 3
   },
   "file_extension": ".py",
   "mimetype": "text/x-python",
   "name": "python",
   "nbconvert_exporter": "python",
   "pygments_lexer": "ipython3",
   "version": "3.10.4"
  }
 },
 "nbformat": 4,
 "nbformat_minor": 5
}
